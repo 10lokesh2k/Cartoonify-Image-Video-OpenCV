{
  "nbformat": 4,
  "nbformat_minor": 0,
  "metadata": {
    "colab": {
      "name": "Cartoonify_image.ipynb",
      "provenance": [],
      "include_colab_link": true
    },
    "kernelspec": {
      "name": "python385jvsc74a57bd02db524e06e9f5f4ffedc911c917cb75e12dbc923643829bf417064a77eb14d37",
      "display_name": "Python 3.8.5 64-bit"
    },
    "language_info": {
      "name": "python",
      "version": "3.8.5-final"
    }
  },
  "cells": [
    {
      "cell_type": "markdown",
      "metadata": {
        "id": "view-in-github",
        "colab_type": "text"
      },
      "source": [
        "<a href=\"https://colab.research.google.com/github/10lokesh2k/Cartoonify-Project-opencv/blob/main/Cartoonify_image.ipynb\" target=\"_parent\"><img src=\"https://colab.research.google.com/assets/colab-badge.svg\" alt=\"Open In Colab\"/></a>"
      ]
    },
    {
      "cell_type": "code",
      "metadata": {
        "id": "RjGkyPP58Pu1",
        "colab": {
          "base_uri": "https://localhost:8080/",
          "height": 363
        },
        "outputId": "2dca96aa-6c4d-4de2-baa2-4ef258fbd08d"
      },
      "source": [
        "import cv2 #for image processing\n",
        "import easygui #to open the filebox\n",
        "import numpy as np #to store image\n",
        "import imageio #to read image stored at particular path\n",
        "\n",
        "import sys\n",
        "import matplotlib.pyplot as plt\n",
        "import os\n",
        "import tkinter as tk\n",
        "from tkinter import filedialog\n",
        "from tkinter import *\n",
        "from PIL import ImageTk, Image"
      ],
      "execution_count": 18,
      "outputs": []
    },
    {
      "cell_type": "markdown",
      "metadata": {
        "id": "uAuiDyckPPEK"
      },
      "source": [
        "## Building a File Box to choose a particular file"
      ]
    },
    {
      "cell_type": "code",
      "metadata": {
        "id": "v5vnMUjWPIB_"
      },
      "source": [
        "top=tk.Tk()\n",
        "top.geometry('600x400')\n",
        "top.title('Cartoonify Your Image with OpenCV!')\n",
        "top.configure(background='light blue')\n",
        "label=Label(top,background='#CDCDCD', font=('calibri',20,'bold'))"
      ],
      "execution_count": 19,
      "outputs": []
    },
    {
      "cell_type": "code",
      "metadata": {
        "id": "pHOgyywbPIB_"
      },
      "source": [
        "def upload():\n",
        "    ImagePath=easygui.fileopenbox()\n",
        "    cartoonify(ImagePath)"
      ],
      "execution_count": 20,
      "outputs": []
    },
    {
      "cell_type": "markdown",
      "metadata": {
        "id": "cgpFmnugReIn"
      },
      "source": [
        "## Storing of the image"
      ]
    },
    {
      "cell_type": "code",
      "metadata": {
        "id": "NxNMr4ryPICA"
      },
      "source": [
        "def cartoonify(ImagePath):\n",
        "    # read the image\n",
        "    originalmage = cv2.imread(ImagePath)\n",
        "    originalmage = cv2.cvtColor(originalmage, cv2.COLOR_BGR2RGB)\n",
        "    #print(image)  # image is stored in form of numbers\n",
        "\n",
        "    # confirm that image is chosen\n",
        "    if originalmage is None:\n",
        "        print(\"Can not find any image. Choose appropriate file\")\n",
        "        sys.exit()\n",
        "\n",
        "    ReSized1 = cv2.resize(originalmage, (960, 540))\n",
        "    #plt.imshow(ReSized1, cmap='gray')\n",
        "\n",
        "\n",
        "\n",
        "\n",
        "   "
      ],
      "execution_count": 25,
      "outputs": []
    },
    {
      "cell_type": "markdown",
      "metadata": {
        "id": "TbHIDHUtSFaM"
      },
      "source": [
        "## Transforming an image to grayscale"
      ]
    },
    {
      "cell_type": "code",
      "metadata": {
        "id": "1IVIHFVSSF_B"
      },
      "source": [
        "   #converting an image to grayscale\n",
        "   grayScaleImage= cv2.cvtColor(originalmage, cv2.COLOR_BGR2GRAY)\n",
        "   ReSized2 = cv2.resize(grayScaleImage, (960, 540))\n",
        "   #plt.imshow(ReSized2, cmap='gray')\n",
        "\n",
        "\n",
        "    "
      ],
      "execution_count": 26,
      "outputs": [
        {
          "output_type": "error",
          "ename": "NameError",
          "evalue": "name 'originalmage' is not defined",
          "traceback": [
            "\u001b[1;31m---------------------------------------------------------------------------\u001b[0m",
            "\u001b[1;31mNameError\u001b[0m                                 Traceback (most recent call last)",
            "\u001b[1;32m<ipython-input-26-50ad91cc50b4>\u001b[0m in \u001b[0;36m<module>\u001b[1;34m\u001b[0m\n\u001b[0;32m      1\u001b[0m \u001b[1;31m#converting an image to grayscale\u001b[0m\u001b[1;33m\u001b[0m\u001b[1;33m\u001b[0m\u001b[1;33m\u001b[0m\u001b[0m\n\u001b[1;32m----> 2\u001b[1;33m \u001b[0mgrayScaleImage\u001b[0m\u001b[1;33m=\u001b[0m \u001b[0mcv2\u001b[0m\u001b[1;33m.\u001b[0m\u001b[0mcvtColor\u001b[0m\u001b[1;33m(\u001b[0m\u001b[0moriginalmage\u001b[0m\u001b[1;33m,\u001b[0m \u001b[0mcv2\u001b[0m\u001b[1;33m.\u001b[0m\u001b[0mCOLOR_BGR2GRAY\u001b[0m\u001b[1;33m)\u001b[0m\u001b[1;33m\u001b[0m\u001b[1;33m\u001b[0m\u001b[0m\n\u001b[0m\u001b[0;32m      3\u001b[0m \u001b[0mReSized2\u001b[0m \u001b[1;33m=\u001b[0m \u001b[0mcv2\u001b[0m\u001b[1;33m.\u001b[0m\u001b[0mresize\u001b[0m\u001b[1;33m(\u001b[0m\u001b[0mgrayScaleImage\u001b[0m\u001b[1;33m,\u001b[0m \u001b[1;33m(\u001b[0m\u001b[1;36m960\u001b[0m\u001b[1;33m,\u001b[0m \u001b[1;36m540\u001b[0m\u001b[1;33m)\u001b[0m\u001b[1;33m)\u001b[0m\u001b[1;33m\u001b[0m\u001b[1;33m\u001b[0m\u001b[0m\n\u001b[0;32m      4\u001b[0m \u001b[1;31m#plt.imshow(ReSized2, cmap='gray')\u001b[0m\u001b[1;33m\u001b[0m\u001b[1;33m\u001b[0m\u001b[1;33m\u001b[0m\u001b[0m\n\u001b[0;32m      5\u001b[0m \u001b[1;33m\u001b[0m\u001b[0m\n",
            "\u001b[1;31mNameError\u001b[0m: name 'originalmage' is not defined"
          ]
        }
      ]
    },
    {
      "cell_type": "markdown",
      "metadata": {
        "id": "BzWQdtDqS3Mx"
      },
      "source": [
        "## Smoothening a grayscale image"
      ]
    },
    {
      "cell_type": "code",
      "metadata": {
        "id": "J_qeHiKlS4tC"
      },
      "source": [
        "#applying median blur to smoothen an image\n",
        "    smoothGrayScale = cv2.medianBlur(grayScaleImage, 5)\n",
        "    ReSized3 = cv2.resize(smoothGrayScale, (960, 540))\n",
        "    #plt.imshow(ReSized3, cmap='gray')\n",
        "\n"
      ],
      "execution_count": null,
      "outputs": []
    },
    {
      "cell_type": "markdown",
      "metadata": {
        "id": "KzChpWegTN7J"
      },
      "source": [
        "## Retrieving the edges of an image"
      ]
    },
    {
      "cell_type": "code",
      "metadata": {
        "id": "6DQXuNZhTXlE"
      },
      "source": [
        "    '''retrieving the edges for cartoon effect\n",
        "    by using thresholding technique'''\n",
        "    getEdge = cv2.adaptiveThreshold(smoothGrayScale, 255, \n",
        "        cv2.ADAPTIVE_THRESH_MEAN_C, \n",
        "        cv2.THRESH_BINARY, 9, 9)\n",
        "\n",
        "    ReSized4 = cv2.resize(getEdge, (960, 540))\n",
        "    #plt.imshow(ReSized4, cmap='gray')\n",
        "\n",
        " "
      ],
      "execution_count": null,
      "outputs": []
    },
    {
      "cell_type": "markdown",
      "metadata": {
        "id": "7NK7zDNYTbHv"
      },
      "source": [
        "## Preparing a Mask Image"
      ]
    },
    {
      "cell_type": "code",
      "metadata": {
        "id": "rnyFSELvTugh"
      },
      "source": [
        "   '''applying bilateral filter to remove noise \n",
        "    and keep edge sharp as required'''\n",
        "    colorImage = cv2.bilateralFilter(originalmage, 9, 300, 300)\n",
        "    ReSized5 = cv2.resize(colorImage, (960, 540))\n",
        "    #plt.imshow(ReSized5, cmap='gray')"
      ],
      "execution_count": null,
      "outputs": []
    },
    {
      "cell_type": "markdown",
      "metadata": {
        "id": "fEKn1x2wT071"
      },
      "source": [
        "## Giving a Cartoon Effect"
      ]
    },
    {
      "cell_type": "code",
      "metadata": {
        "id": "2ycIaAFyT0Pt"
      },
      "source": [
        " #masking edged image with our \"BEAUTIFY\" image\n",
        "    cartoonImage = cv2.bitwise_and(colorImage, colorImage, mask=getEdge)\n",
        "\n",
        "    ReSized6 = cv2.resize(cartoonImage, (960, 540))\n",
        "    #plt.imshow(ReSized6, cmap='gray')\n",
        "\n"
      ],
      "execution_count": null,
      "outputs": []
    },
    {
      "cell_type": "markdown",
      "metadata": {
        "id": "RaGN7lSMTzVq"
      },
      "source": [
        "## Plotting all the transitions together"
      ]
    },
    {
      "cell_type": "code",
      "metadata": {
        "id": "7aerP-HlUB9n"
      },
      "source": [
        "    # Plotting the whole transition\n",
        "    images=[ReSized1, ReSized2, ReSized3, ReSized4, ReSized5, ReSized6]\n",
        "\n",
        "    fig, axes = plt.subplots(3,2, figsize=(8,8), subplot_kw={'xticks':[], 'yticks':[]}, gridspec_kw=dict(hspace=0.1, wspace=0.1))\n",
        "    for i, ax in enumerate(axes.flat):\n",
        "        ax.imshow(images[i], cmap='gray')\n",
        "\n",
        "    save1=Button(top,text=\"Save cartoon image\",command=lambda: save(ReSized6, ImagePath),padx=30,pady=5)\n",
        "    save1.configure(background='#364156', foreground='white',font=('calibri',10,'bold'))\n",
        "    save1.pack(side=TOP,pady=50)\n",
        "    \n",
        "    plt.show()"
      ],
      "execution_count": null,
      "outputs": []
    },
    {
      "cell_type": "markdown",
      "metadata": {
        "id": "5Fhgh283UK7C"
      },
      "source": [
        "## Functionally of save button"
      ]
    },
    {
      "cell_type": "code",
      "metadata": {
        "id": "IJRiksdFPICA"
      },
      "source": [
        "def save(ReSized6, ImagePath):\n",
        "    #saving an image using imwrite()\n",
        "    newName=\"cartoonified_Image\"\n",
        "    path1 = os.path.dirname(ImagePath)\n",
        "    extension=os.path.splitext(ImagePath)[1] \n",
        "    path = os.path.join(path1, newName+extension)\n",
        "    cv2.imwrite(path, cv2.cvtColor(ReSized6, cv2.COLOR_RGB2BGR))\n",
        "    I= \"Image saved by name \" + newName +\" at \"+ path\n",
        "    tk.messagebox.showinfo(title=None, message=I)"
      ],
      "execution_count": null,
      "outputs": []
    },
    {
      "cell_type": "markdown",
      "metadata": {
        "id": "gJiIQJlzUR80"
      },
      "source": [
        "## Making the main window"
      ]
    },
    {
      "cell_type": "code",
      "execution_count": 1,
      "metadata": {},
      "outputs": [
        {
          "output_type": "error",
          "ename": "NameError",
          "evalue": "name 'tk' is not defined",
          "traceback": [
            "\u001b[1;31m---------------------------------------------------------------------------\u001b[0m",
            "\u001b[1;31mNameError\u001b[0m                                 Traceback (most recent call last)",
            "\u001b[1;32m<ipython-input-1-a75e82434bf0>\u001b[0m in \u001b[0;36m<module>\u001b[1;34m\u001b[0m\n\u001b[1;32m----> 1\u001b[1;33m \u001b[0mtop\u001b[0m\u001b[1;33m=\u001b[0m\u001b[0mtk\u001b[0m\u001b[1;33m.\u001b[0m\u001b[0mTk\u001b[0m\u001b[1;33m(\u001b[0m\u001b[1;33m)\u001b[0m\u001b[1;33m\u001b[0m\u001b[1;33m\u001b[0m\u001b[0m\n\u001b[0m\u001b[0;32m      2\u001b[0m \u001b[0mtop\u001b[0m\u001b[1;33m.\u001b[0m\u001b[0mgeometry\u001b[0m\u001b[1;33m(\u001b[0m\u001b[1;34m'400x400'\u001b[0m\u001b[1;33m)\u001b[0m\u001b[1;33m\u001b[0m\u001b[1;33m\u001b[0m\u001b[0m\n\u001b[0;32m      3\u001b[0m \u001b[0mtop\u001b[0m\u001b[1;33m.\u001b[0m\u001b[0mtitle\u001b[0m\u001b[1;33m(\u001b[0m\u001b[1;34m'Cartoonify Your Image !'\u001b[0m\u001b[1;33m)\u001b[0m\u001b[1;33m\u001b[0m\u001b[1;33m\u001b[0m\u001b[0m\n\u001b[0;32m      4\u001b[0m \u001b[0mtop\u001b[0m\u001b[1;33m.\u001b[0m\u001b[0mconfigure\u001b[0m\u001b[1;33m(\u001b[0m\u001b[0mbackground\u001b[0m\u001b[1;33m=\u001b[0m\u001b[1;34m'white'\u001b[0m\u001b[1;33m)\u001b[0m\u001b[1;33m\u001b[0m\u001b[1;33m\u001b[0m\u001b[0m\n\u001b[0;32m      5\u001b[0m \u001b[0mlabel\u001b[0m\u001b[1;33m=\u001b[0m\u001b[0mLabel\u001b[0m\u001b[1;33m(\u001b[0m\u001b[0mtop\u001b[0m\u001b[1;33m,\u001b[0m\u001b[0mbackground\u001b[0m\u001b[1;33m=\u001b[0m\u001b[1;34m'#CDCDCD'\u001b[0m\u001b[1;33m,\u001b[0m \u001b[0mfont\u001b[0m\u001b[1;33m=\u001b[0m\u001b[1;33m(\u001b[0m\u001b[1;34m'calibri'\u001b[0m\u001b[1;33m,\u001b[0m\u001b[1;36m20\u001b[0m\u001b[1;33m,\u001b[0m\u001b[1;34m'bold'\u001b[0m\u001b[1;33m)\u001b[0m\u001b[1;33m)\u001b[0m\u001b[1;33m\u001b[0m\u001b[1;33m\u001b[0m\u001b[0m\n",
            "\u001b[1;31mNameError\u001b[0m: name 'tk' is not defined"
          ]
        }
      ],
      "source": [
        "top=tk.Tk()\n",
        "top.geometry('400x400')\n",
        "top.title('Cartoonify Your Image !')\n",
        "top.configure(background='white')\n",
        "label=Label(top,background='#CDCDCD', font=('calibri',20,'bold'))"
      ]
    },
    {
      "source": [
        "## Making the Cartoonify button in the main window"
      ],
      "cell_type": "markdown",
      "metadata": {
        "id": "n49D27AbUixR"
      }
    },
    {
      "cell_type": "code",
      "execution_count": null,
      "metadata": {},
      "outputs": [],
      "source": [
        "upload=Button(top,text=\"Cartoonify an Image\",command=upload,padx=10,pady=5)\n",
        "upload.configure(background='#364156', foreground='white',font=('calibri',10,'bold'))\n",
        "upload.pack(side=TOP,pady=50)"
      ]
    },
    {
      "cell_type": "markdown",
      "metadata": {
        "id": "CIIloJ90UpFf"
      },
      "source": [
        "## Making a Save button in the main window"
      ]
    },
    {
      "cell_type": "code",
      "execution_count": null,
      "metadata": {},
      "outputs": [],
      "source": [
        "save1=Button(top,text=\"Save cartoon image\",command=lambda: save(ImagePath, ReSized6),padx=30,pady=5)\n",
        "save1.configure(background='#364156', foreground='white',font=('calibri',10,'bold'))\n",
        "save1.pack(side=TOP,pady=50)"
      ]
    },
    {
      "cell_type": "markdown",
      "metadata": {
        "id": "B3aw5YNPUtUa"
      },
      "source": [
        "## Main function to build the tkinter window"
      ]
    },
    {
      "cell_type": "code",
      "execution_count": null,
      "metadata": {},
      "outputs": [],
      "source": [
        "top.mainloop()"
      ]
    },
    {
      "cell_type": "code",
      "metadata": {
        "id": "M5-fMW7ePICB"
      },
      "source": [],
      "execution_count": null,
      "outputs": []
    },
    {
      "cell_type": "code",
      "metadata": {
        "id": "fk0UJmGyPICB"
      },
      "source": [],
      "execution_count": null,
      "outputs": []
    },
    {
      "cell_type": "code",
      "metadata": {
        "id": "7ItcLfq0PICC"
      },
      "source": [],
      "execution_count": null,
      "outputs": []
    }
  ]
}